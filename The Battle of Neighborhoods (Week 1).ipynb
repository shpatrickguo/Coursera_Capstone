{
 "cells": [
  {
   "cell_type": "markdown",
   "metadata": {},
   "source": [
    "# The Battle of Neighborhoods: Pop-ups in San Francisco"
   ]
  },
  {
   "cell_type": "code",
   "execution_count": 15,
   "metadata": {},
   "outputs": [],
   "source": [
    "import config as cfg\n",
    "import pandas as pd\n",
    "from sodapy import Socrata"
   ]
  },
  {
   "cell_type": "markdown",
   "metadata": {},
   "source": [
    "### Table of Contents\n",
    "\n",
    "* [Introduction](#introduction)\n",
    "* [Data](#data)\n"
   ]
  },
  {
   "cell_type": "markdown",
   "metadata": {},
   "source": [
    "## Introduction: Business Problem <a class=\"anchor\" id=\"introduction\"></a>"
   ]
  },
  {
   "cell_type": "markdown",
   "metadata": {},
   "source": [
    "The Covid-19 pandemic continues to cause widespread economic distruption leading to the permanent closure of thousands of businesses. Now an increasing number of people have difficulty procuring food supplies as many eateries are shutting down. Restaraunts are trying to remain profitable despite loing a significant amount of business due to stay-in-shelter, no indoor seating, and social distancing amid health and safety concerns. However, some alternative eateries are continuing to operate and doing better than they imagined: food trucks. These services provide meals from motorized vehicles or carts. \n",
    "Food trucks also experience lower sales due to the absence of office workers and large decline of street traffic. Howver unlike restaurants that are fixed facilties, food trucks can quickly change location, menu and market. Operators have adapted by branching out into residential areas to capitalize on the large portion of people staying at home. Food truck sales fluctuate wildly depending on a number of factors, most of which depend on location. This report uses machine learning tools to assist food trucks operators looking for the best locations in San Francisco. The report will cluster San Francisco neighborhoods in order to recommend venues according to amenities and facilities surrounding such venues."
   ]
  },
  {
   "cell_type": "markdown",
   "metadata": {},
   "source": [
    "## Data <a class=\"anchor\" id=\"data\"></a>"
   ]
  },
  {
   "cell_type": "markdown",
   "metadata": {},
   "source": [
    "In San Francisco, food trucks must satisfy [DPW Order 182,101](https://www.sfpublicworks.org/sites/default/files/3858-DPW%20Order_182101-MFF.pdf) requirements to be a legal street-food vendor. Hence they can only operate in the approved zones shown in red on the Mobile Food Faculity Permit map:\n",
    "\n",
    "<img src=\"mff_rev_092014.jpg\" width=\"600\"/>\n",
    "\n",
    "The report will look at areas that are approved for food trucks by using [Mobile Food Facility Permits data](https://data.sfgov.org/Economy-and-Community/Mobile-Food-Facility-Permit/rqzj-sfat) provided by San Francisco Department of Public Works on DataSF, which lists the type of mobile food vendor, locations and status of their permits. This will joined with location data from the FourSquare API, which provides venue data for those neighborhoods.\n"
   ]
  },
  {
   "cell_type": "markdown",
   "metadata": {},
   "source": [
    "The Mobile Food Facility Permits data. The primary features we are interested in:\n",
    "- **facilitytype**: Type of facilty permitted: truck or push cart\n",
    "- **address**\n",
    "- **location**: Latitude and Longitude\n",
    "- **status**: Status of permit: Approved or Requested"
   ]
  },
  {
   "cell_type": "code",
   "execution_count": 30,
   "metadata": {},
   "outputs": [],
   "source": [
    "client = Socrata(\"data.sfgov.org\",\n",
    "                cfg.datasf[\"App Token\"],\n",
    "                username=cfg.datasf[\"username\"],\n",
    "                password=cfg.datasf[\"password\"])\n",
    "results = client.get(\"rqzj-sfat\", limit=2000)\n",
    "results_df = pd.DataFrame.from_records(results)\n",
    "\n",
    "mff_df = results_df[[\"facilitytype\", \"address\", \"location\", 'status']] "
   ]
  },
  {
   "cell_type": "code",
   "execution_count": 31,
   "metadata": {},
   "outputs": [
    {
     "data": {
      "text/html": [
       "<div>\n",
       "<style scoped>\n",
       "    .dataframe tbody tr th:only-of-type {\n",
       "        vertical-align: middle;\n",
       "    }\n",
       "\n",
       "    .dataframe tbody tr th {\n",
       "        vertical-align: top;\n",
       "    }\n",
       "\n",
       "    .dataframe thead th {\n",
       "        text-align: right;\n",
       "    }\n",
       "</style>\n",
       "<table border=\"1\" class=\"dataframe\">\n",
       "  <thead>\n",
       "    <tr style=\"text-align: right;\">\n",
       "      <th></th>\n",
       "      <th>facilitytype</th>\n",
       "      <th>address</th>\n",
       "      <th>location</th>\n",
       "      <th>status</th>\n",
       "    </tr>\n",
       "  </thead>\n",
       "  <tbody>\n",
       "    <tr>\n",
       "      <th>0</th>\n",
       "      <td>Truck</td>\n",
       "      <td>564 HOWARD ST</td>\n",
       "      <td>{'latitude': '37.7875398934675', 'longitude': ...</td>\n",
       "      <td>REQUESTED</td>\n",
       "    </tr>\n",
       "    <tr>\n",
       "      <th>1</th>\n",
       "      <td>Truck</td>\n",
       "      <td>2615 24TH ST</td>\n",
       "      <td>{'latitude': '37.7528148292211', 'longitude': ...</td>\n",
       "      <td>REQUESTED</td>\n",
       "    </tr>\n",
       "    <tr>\n",
       "      <th>2</th>\n",
       "      <td>Truck</td>\n",
       "      <td>208 PENNSYLVANIA AVE</td>\n",
       "      <td>{'latitude': '37.7634629599066', 'longitude': ...</td>\n",
       "      <td>APPROVED</td>\n",
       "    </tr>\n",
       "    <tr>\n",
       "      <th>3</th>\n",
       "      <td>Truck</td>\n",
       "      <td>160 PINE ST</td>\n",
       "      <td>{'latitude': '37.792524940842', 'longitude': '...</td>\n",
       "      <td>REQUESTED</td>\n",
       "    </tr>\n",
       "    <tr>\n",
       "      <th>4</th>\n",
       "      <td>Truck</td>\n",
       "      <td>201 02ND ST</td>\n",
       "      <td>{'latitude': '37.7868016505971', 'longitude': ...</td>\n",
       "      <td>REQUESTED</td>\n",
       "    </tr>\n",
       "  </tbody>\n",
       "</table>\n",
       "</div>"
      ],
      "text/plain": [
       "  facilitytype               address  \\\n",
       "0        Truck         564 HOWARD ST   \n",
       "1        Truck          2615 24TH ST   \n",
       "2        Truck  208 PENNSYLVANIA AVE   \n",
       "3        Truck           160 PINE ST   \n",
       "4        Truck           201 02ND ST   \n",
       "\n",
       "                                            location     status  \n",
       "0  {'latitude': '37.7875398934675', 'longitude': ...  REQUESTED  \n",
       "1  {'latitude': '37.7528148292211', 'longitude': ...  REQUESTED  \n",
       "2  {'latitude': '37.7634629599066', 'longitude': ...   APPROVED  \n",
       "3  {'latitude': '37.792524940842', 'longitude': '...  REQUESTED  \n",
       "4  {'latitude': '37.7868016505971', 'longitude': ...  REQUESTED  "
      ]
     },
     "execution_count": 31,
     "metadata": {},
     "output_type": "execute_result"
    }
   ],
   "source": [
    "mff_df.head()"
   ]
  },
  {
   "cell_type": "code",
   "execution_count": null,
   "metadata": {},
   "outputs": [],
   "source": []
  }
 ],
 "metadata": {
  "kernelspec": {
   "display_name": "Python 3",
   "language": "python",
   "name": "python3"
  },
  "language_info": {
   "codemirror_mode": {
    "name": "ipython",
    "version": 3
   },
   "file_extension": ".py",
   "mimetype": "text/x-python",
   "name": "python",
   "nbconvert_exporter": "python",
   "pygments_lexer": "ipython3",
   "version": "3.8.3"
  }
 },
 "nbformat": 4,
 "nbformat_minor": 4
}
